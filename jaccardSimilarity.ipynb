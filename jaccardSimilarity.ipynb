{
  "cells": [
    {
      "cell_type": "markdown",
      "metadata": {
        "id": "view-in-github",
        "colab_type": "text"
      },
      "source": [
        "<a href=\"https://colab.research.google.com/github/Brinkley97/csci_585_database_systems/blob/main/jaccardSimilarity.ipynb\" target=\"_parent\"><img src=\"https://colab.research.google.com/assets/colab-badge.svg\" alt=\"Open In Colab\"/></a>"
      ]
    },
    {
      "cell_type": "markdown",
      "id": "68dcb096-bff6-42b1-812b-d58b6518ad74",
      "metadata": {
        "id": "68dcb096-bff6-42b1-812b-d58b6518ad74"
      },
      "source": [
        "# Jaccard Similarity"
      ]
    },
    {
      "cell_type": "code",
      "source": [
        "from google.colab import drive\n",
        "drive.mount('/content/drive')"
      ],
      "metadata": {
        "colab": {
          "base_uri": "https://localhost:8080/"
        },
        "id": "a6RZhAc93QsO",
        "outputId": "2ba105fe-9861-4e24-bcd9-029cd54ea87c"
      },
      "id": "a6RZhAc93QsO",
      "execution_count": 8,
      "outputs": [
        {
          "output_type": "stream",
          "name": "stdout",
          "text": [
            "Mounted at /content/drive\n"
          ]
        }
      ]
    },
    {
      "cell_type": "code",
      "execution_count": 1,
      "id": "27e506e9-4229-4e3f-8683-fe266d2fd32c",
      "metadata": {
        "colab": {
          "base_uri": "https://localhost:8080/"
        },
        "id": "27e506e9-4229-4e3f-8683-fe266d2fd32c",
        "outputId": "66390879-ac99-4389-e50d-dc201ff76cc7"
      },
      "outputs": [
        {
          "output_type": "stream",
          "name": "stdout",
          "text": [
            "Collecting tika\n",
            "  Downloading tika-2.6.0.tar.gz (27 kB)\n",
            "  Preparing metadata (setup.py) ... \u001b[?25l\u001b[?25hdone\n",
            "Requirement already satisfied: setuptools in /usr/local/lib/python3.10/dist-packages (from tika) (67.7.2)\n",
            "Requirement already satisfied: requests in /usr/local/lib/python3.10/dist-packages (from tika) (2.27.1)\n",
            "Requirement already satisfied: urllib3<1.27,>=1.21.1 in /usr/local/lib/python3.10/dist-packages (from requests->tika) (1.26.16)\n",
            "Requirement already satisfied: certifi>=2017.4.17 in /usr/local/lib/python3.10/dist-packages (from requests->tika) (2023.7.22)\n",
            "Requirement already satisfied: charset-normalizer~=2.0.0 in /usr/local/lib/python3.10/dist-packages (from requests->tika) (2.0.12)\n",
            "Requirement already satisfied: idna<4,>=2.5 in /usr/local/lib/python3.10/dist-packages (from requests->tika) (3.4)\n",
            "Building wheels for collected packages: tika\n",
            "  Building wheel for tika (setup.py) ... \u001b[?25l\u001b[?25hdone\n",
            "  Created wheel for tika: filename=tika-2.6.0-py3-none-any.whl size=32624 sha256=6157341cc53a52eb36d845413ea01541f914c0c6f32914d1c2205c7892891b62\n",
            "  Stored in directory: /root/.cache/pip/wheels/5f/71/c7/b757709531121b1700cffda5b6b0d4aad095fb507ec84316d0\n",
            "Successfully built tika\n",
            "Installing collected packages: tika\n",
            "Successfully installed tika-2.6.0\n"
          ]
        }
      ],
      "source": [
        "# !pip install tika"
      ]
    },
    {
      "cell_type": "code",
      "execution_count": 2,
      "id": "18afa1ec-f943-4610-b94b-517ee9a37279",
      "metadata": {
        "id": "18afa1ec-f943-4610-b94b-517ee9a37279"
      },
      "outputs": [],
      "source": [
        "import tika\n",
        "tika.initVM()\n",
        "from tika import parser"
      ]
    },
    {
      "cell_type": "code",
      "execution_count": 3,
      "id": "b37a8dfa-a1a6-4e5d-ad4e-e7bf75da1e2f",
      "metadata": {
        "id": "b37a8dfa-a1a6-4e5d-ad4e-e7bf75da1e2f"
      },
      "outputs": [],
      "source": [
        "doc_1 = \"Data is the new oil of the digital economy\"\n",
        "doc_2 = \"Data is a new oil\""
      ]
    },
    {
      "cell_type": "code",
      "execution_count": 18,
      "id": "7061c24f-bcaf-4bcd-a0bc-f8bfce34bf43",
      "metadata": {
        "id": "7061c24f-bcaf-4bcd-a0bc-f8bfce34bf43"
      },
      "outputs": [],
      "source": [
        "def jaccard_similarity_metric(doc1, doc2):\n",
        "\n",
        "    # List the unique words in a document\n",
        "    words_doc1 = set(doc1.lower().split())\n",
        "    words_doc2 = set(doc2.lower().split())\n",
        "\n",
        "    # Find the intersection of words list of doc1 & doc2\n",
        "    intersection = words_doc1.intersection(words_doc2)\n",
        "\n",
        "    # Find the union of words list of doc1 & doc2\n",
        "    union = words_doc1.union(words_doc2)\n",
        "\n",
        "    # Calculate Jaccard similarity score\n",
        "    # using length of intersection set divided by length of union set\n",
        "    return float(len(intersection)) / len(union)"
      ]
    },
    {
      "cell_type": "code",
      "execution_count": 19,
      "id": "b27617bd-c078-4b4c-925b-474a8a3ff46d",
      "metadata": {
        "colab": {
          "base_uri": "https://localhost:8080/"
        },
        "id": "b27617bd-c078-4b4c-925b-474a8a3ff46d",
        "outputId": "17c6d66d-ea5e-4720-9c2e-439ed64c23cd"
      },
      "outputs": [
        {
          "output_type": "execute_result",
          "data": {
            "text/plain": [
              "0.4444444444444444"
            ]
          },
          "metadata": {},
          "execution_count": 19
        }
      ],
      "source": [
        "jaccard_similarity_metric(doc_1, doc_2)"
      ]
    },
    {
      "cell_type": "markdown",
      "id": "3b81aa3b-7758-4c94-be01-94f89a016c86",
      "metadata": {
        "id": "3b81aa3b-7758-4c94-be01-94f89a016c86"
      },
      "source": [
        "# Extract Text from Files"
      ]
    },
    {
      "cell_type": "code",
      "execution_count": 12,
      "id": "1b513330-386f-42aa-8f49-9fd592da5211",
      "metadata": {
        "id": "1b513330-386f-42aa-8f49-9fd592da5211"
      },
      "outputs": [],
      "source": [
        "file_1 = \"/content/drive/MyDrive/classes/23_summer/csci_550_data_science_at_scale/my_code/datasets/1-discussion.pdf\"\n",
        "file_2 = \"/content/drive/MyDrive/classes/23_summer/csci_550_data_science_at_scale/my_code/datasets/1-discussion.pdf\""
      ]
    },
    {
      "cell_type": "code",
      "execution_count": 13,
      "id": "4a7072a4-43b3-46fd-8645-a72a724c10c0",
      "metadata": {
        "id": "4a7072a4-43b3-46fd-8645-a72a724c10c0"
      },
      "outputs": [],
      "source": [
        "def extract_text(file_path):\n",
        "    parsed_data = parser.from_file(file_path)\n",
        "    return parsed_data[\"content\"]"
      ]
    },
    {
      "cell_type": "code",
      "execution_count": 14,
      "id": "c7a22300-7a8e-42c4-bfed-707b54be05ec",
      "metadata": {
        "colab": {
          "base_uri": "https://localhost:8080/"
        },
        "id": "c7a22300-7a8e-42c4-bfed-707b54be05ec",
        "outputId": "8c562e44-3616-4bd4-f73c-7b6416fe5cca"
      },
      "outputs": [
        {
          "output_type": "stream",
          "name": "stderr",
          "text": [
            "2023-07-27 05:41:47,911 [MainThread  ] [INFO ]  Retrieving http://search.maven.org/remotecontent?filepath=org/apache/tika/tika-server-standard/2.6.0/tika-server-standard-2.6.0.jar to /tmp/tika-server.jar.\n",
            "INFO:tika.tika:Retrieving http://search.maven.org/remotecontent?filepath=org/apache/tika/tika-server-standard/2.6.0/tika-server-standard-2.6.0.jar to /tmp/tika-server.jar.\n",
            "2023-07-27 05:41:48,414 [MainThread  ] [INFO ]  Retrieving http://search.maven.org/remotecontent?filepath=org/apache/tika/tika-server-standard/2.6.0/tika-server-standard-2.6.0.jar.md5 to /tmp/tika-server.jar.md5.\n",
            "INFO:tika.tika:Retrieving http://search.maven.org/remotecontent?filepath=org/apache/tika/tika-server-standard/2.6.0/tika-server-standard-2.6.0.jar.md5 to /tmp/tika-server.jar.md5.\n",
            "2023-07-27 05:41:48,733 [MainThread  ] [WARNI]  Failed to see startup log message; retrying...\n",
            "WARNING:tika.tika:Failed to see startup log message; retrying...\n"
          ]
        }
      ],
      "source": [
        "file_1_text = extract_text(file_1)"
      ]
    },
    {
      "cell_type": "code",
      "execution_count": 15,
      "id": "7bd393f1-b4f7-4cb7-8953-187e9be0822a",
      "metadata": {
        "colab": {
          "base_uri": "https://localhost:8080/",
          "height": 87
        },
        "id": "7bd393f1-b4f7-4cb7-8953-187e9be0822a",
        "outputId": "dacd40bc-579a-4f92-ef2e-98f82edc2b33"
      },
      "outputs": [
        {
          "output_type": "execute_result",
          "data": {
            "text/plain": [
              "'\\n\\n\\n\\n\\n\\n\\n\\n\\n\\n\\n\\n\\n\\n\\n\\n\\n\\n\\n\\n\\n\\n\\n\\n\\n\\n\\n\\n\\n\\n\\n\\n\\n\\n\\n\\n\\n\\n\\n\\nDiscussion 1 \\n\\n \\n\\n \\n \\n\\n1. Prove that every execution of the G-S algorithm (when men are proposing) results in the \\n\\nsame stable matching regardless of the order in which men propose. \\n\\n \\n\\n \\n\\n2. Prove that when we run the G-S algorithm with men proposing, women end up with their \\n\\nworst valid partners. \\n\\n \\n\\n3. True or False: \\n\\nIn every stable matching that Gale–Shapley algorithm may end up with when men propose, \\n\\nthere is a man who is matched to his highest-ranked woman. \\n\\n \\n\\n \\n\\n4.  In a connected bipartite graph, is the bipartition unique? Justify your answer. \\n\\n \\n\\n \\n\\n \\n\\n \\n\\n \\n\\n \\n\\n \\n\\n \\n\\n\\n'"
            ],
            "application/vnd.google.colaboratory.intrinsic+json": {
              "type": "string"
            }
          },
          "metadata": {},
          "execution_count": 15
        }
      ],
      "source": [
        "file_1_text"
      ]
    },
    {
      "cell_type": "code",
      "execution_count": 16,
      "id": "842b736b-5741-488d-ab44-911c164b6f55",
      "metadata": {
        "id": "842b736b-5741-488d-ab44-911c164b6f55"
      },
      "outputs": [],
      "source": [
        "file_2_text = extract_text(file_2)"
      ]
    },
    {
      "cell_type": "code",
      "execution_count": 17,
      "id": "822fec19-10c4-467c-a71c-3b685344c330",
      "metadata": {
        "colab": {
          "base_uri": "https://localhost:8080/",
          "height": 87
        },
        "id": "822fec19-10c4-467c-a71c-3b685344c330",
        "outputId": "36863b4f-7e87-4fb7-bd25-ba126b6ab501"
      },
      "outputs": [
        {
          "output_type": "execute_result",
          "data": {
            "text/plain": [
              "'\\n\\n\\n\\n\\n\\n\\n\\n\\n\\n\\n\\n\\n\\n\\n\\n\\n\\n\\n\\n\\n\\n\\n\\n\\n\\n\\n\\n\\n\\n\\n\\n\\n\\n\\n\\n\\n\\n\\n\\nDiscussion 1 \\n\\n \\n\\n \\n \\n\\n1. Prove that every execution of the G-S algorithm (when men are proposing) results in the \\n\\nsame stable matching regardless of the order in which men propose. \\n\\n \\n\\n \\n\\n2. Prove that when we run the G-S algorithm with men proposing, women end up with their \\n\\nworst valid partners. \\n\\n \\n\\n3. True or False: \\n\\nIn every stable matching that Gale–Shapley algorithm may end up with when men propose, \\n\\nthere is a man who is matched to his highest-ranked woman. \\n\\n \\n\\n \\n\\n4.  In a connected bipartite graph, is the bipartition unique? Justify your answer. \\n\\n \\n\\n \\n\\n \\n\\n \\n\\n \\n\\n \\n\\n \\n\\n \\n\\n\\n'"
            ],
            "application/vnd.google.colaboratory.intrinsic+json": {
              "type": "string"
            }
          },
          "metadata": {},
          "execution_count": 17
        }
      ],
      "source": [
        "file_2_text"
      ]
    },
    {
      "cell_type": "code",
      "source": [
        "jaccard_similarity_metric(file_1_text, file_2_text)"
      ],
      "metadata": {
        "colab": {
          "base_uri": "https://localhost:8080/"
        },
        "id": "OUb2Ik3j3m_P",
        "outputId": "32d9add8-0b7e-4469-cd60-ec37d68efee1"
      },
      "id": "OUb2Ik3j3m_P",
      "execution_count": 20,
      "outputs": [
        {
          "output_type": "execute_result",
          "data": {
            "text/plain": [
              "1.0"
            ]
          },
          "metadata": {},
          "execution_count": 20
        }
      ]
    },
    {
      "cell_type": "code",
      "source": [],
      "metadata": {
        "id": "svQv9kIr3tsW"
      },
      "id": "svQv9kIr3tsW",
      "execution_count": null,
      "outputs": []
    }
  ],
  "metadata": {
    "kernelspec": {
      "display_name": "Python 3 (ipykernel)",
      "language": "python",
      "name": "python3"
    },
    "language_info": {
      "codemirror_mode": {
        "name": "ipython",
        "version": 3
      },
      "file_extension": ".py",
      "mimetype": "text/x-python",
      "name": "python",
      "nbconvert_exporter": "python",
      "pygments_lexer": "ipython3",
      "version": "3.9.7"
    },
    "colab": {
      "provenance": [],
      "include_colab_link": true
    }
  },
  "nbformat": 4,
  "nbformat_minor": 5
}