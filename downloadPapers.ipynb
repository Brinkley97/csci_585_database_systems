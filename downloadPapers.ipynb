{
  "nbformat": 4,
  "nbformat_minor": 0,
  "metadata": {
    "colab": {
      "provenance": [],
      "toc_visible": true,
      "mount_file_id": "1iCLPYwHTcOjbb9mBUcS7C4GDB0IJKUWb",
      "authorship_tag": "ABX9TyNQ8f+6Ws0xUggBPk8CSW4p",
      "include_colab_link": true
    },
    "kernelspec": {
      "name": "python3",
      "display_name": "Python 3"
    },
    "language_info": {
      "name": "python"
    }
  },
  "cells": [
    {
      "cell_type": "markdown",
      "metadata": {
        "id": "view-in-github",
        "colab_type": "text"
      },
      "source": [
        "<a href=\"https://colab.research.google.com/github/Brinkley97/csci_585_database_systems/blob/main/downloadPapers.ipynb\" target=\"_parent\"><img src=\"https://colab.research.google.com/assets/colab-badge.svg\" alt=\"Open In Colab\"/></a>"
      ]
    },
    {
      "cell_type": "markdown",
      "source": [
        "# Download all 200 papers\n",
        "\n",
        "We will leverage your augmented Bik dataset and features anduse it to generate believable, fake scientific literature. Your goal is to parse out and extract the texts from the 200 scientific publications identified in the Bik dataset using Apache Tika, and use the texts to train a new GPT-2 Model. After training, GPT-2 can generate new “fake” scientific, believable texts. You will then convert texts to PDFs."
      ],
      "metadata": {
        "id": "lAujbIyYnB6C"
      }
    },
    {
      "cell_type": "code",
      "execution_count": 1,
      "metadata": {
        "id": "3K5pMCADm607"
      },
      "outputs": [],
      "source": [
        "# !pip install selenium"
      ]
    },
    {
      "cell_type": "code",
      "source": [
        "from selenium import webdriver\n",
        "from selenium.webdriver.common.by import By"
      ],
      "metadata": {
        "id": "fxuJ5NyEp2Hw"
      },
      "execution_count": 2,
      "outputs": []
    },
    {
      "cell_type": "code",
      "source": [
        "def test_eight_components():\n",
        "    # 1. Start the session\n",
        "    driver = webdriver.Chrome()\n",
        "\n",
        "    # 2. Navigate to webpage\n",
        "    driver.get(\"https://www.selenium.dev/selenium/web/web-form.html\")\n",
        "\n",
        "    # 3. Request browser information\n",
        "    title = driver.title\n",
        "    assert title == \"Web form\"\n",
        "\n",
        "    # 4. Establish Waiting Strategy\n",
        "    driver.implicitly_wait(0.5)\n",
        "\n",
        "    # 5. Find an element\n",
        "    text_box = driver.find_element(by=By.NAME, value=\"my-text\")\n",
        "    print(text_box)\n",
        "    submit_button = driver.find_element(by=By.CSS_SELECTOR, value=\"button\")\n",
        "\n",
        "\n",
        "    # 6. Take action on element\n",
        "    text_box.send_keys(\"Selenium\")\n",
        "    submit_button.click()\n",
        "\n",
        "    message = driver.find_element(by=By.ID, value=\"message\")\n",
        "\n",
        "    # 7. Request element information\n",
        "    value = message.text\n",
        "    assert value == \"Received!\"\n",
        "\n",
        "    # 8. End the session\n",
        "    driver.quit()"
      ],
      "metadata": {
        "id": "zyWDKVS3phFp"
      },
      "execution_count": 3,
      "outputs": []
    },
    {
      "cell_type": "code",
      "source": [
        "# test_eight_components()"
      ],
      "metadata": {
        "id": "PeUNnQ0Dpxgh"
      },
      "execution_count": 5,
      "outputs": []
    },
    {
      "cell_type": "code",
      "source": [],
      "metadata": {
        "id": "XEK6ALekrtA7"
      },
      "execution_count": null,
      "outputs": []
    }
  ]
}