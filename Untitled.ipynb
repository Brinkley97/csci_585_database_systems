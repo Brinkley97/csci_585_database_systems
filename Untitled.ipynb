{
 "cells": [
  {
   "cell_type": "markdown",
   "id": "2cfb6f3d-e5fe-4f81-bb4e-b8310b68a534",
   "metadata": {},
   "source": [
    "# Create Paper with LaTex"
   ]
  },
  {
   "cell_type": "code",
   "execution_count": 1,
   "id": "473c591f-6b96-4e01-aff0-4ebf4d02a959",
   "metadata": {},
   "outputs": [],
   "source": [
    "# !pip install fpdf\n"
   ]
  },
  {
   "cell_type": "code",
   "execution_count": 2,
   "id": "93020502-7500-44dd-b89f-11236619e441",
   "metadata": {},
   "outputs": [],
   "source": [
    "import pandas as pd\n",
    "import os, csv\n",
    "import platform\n",
    "import shutil\n",
    "\n",
    "import subprocess\n",
    "\n",
    "import tempfile\n",
    "\n",
    "import csv\n",
    "import subprocess # cf \"http://stackoverflow.com/questions/19683123/\n",
    "                  # compile-latex-from-python\" for original example\n",
    "\n",
    "# to convert tex to pdf\n",
    "import fpdf\n",
    "import pdflatex"
   ]
  },
  {
   "cell_type": "code",
   "execution_count": 3,
   "id": "e1e13748-78da-4c1a-b830-8726891de3c4",
   "metadata": {},
   "outputs": [],
   "source": [
    "# names=['Employee ID', 'Last Name', 'Fist name', 'Telephone number', 'Additional informations']"
   ]
  },
  {
   "cell_type": "code",
   "execution_count": 4,
   "id": "bee1b123-b0bf-4d65-bf96-dae5cd224ccc",
   "metadata": {},
   "outputs": [
    {
     "data": {
      "text/html": [
       "<div>\n",
       "<style scoped>\n",
       "    .dataframe tbody tr th:only-of-type {\n",
       "        vertical-align: middle;\n",
       "    }\n",
       "\n",
       "    .dataframe tbody tr th {\n",
       "        vertical-align: top;\n",
       "    }\n",
       "\n",
       "    .dataframe thead th {\n",
       "        text-align: right;\n",
       "    }\n",
       "</style>\n",
       "<table border=\"1\" class=\"dataframe\">\n",
       "  <thead>\n",
       "    <tr style=\"text-align: right;\">\n",
       "      <th></th>\n",
       "      <th>Employee ID</th>\n",
       "      <th>Last Name</th>\n",
       "      <th>Fist name</th>\n",
       "      <th>Telephone number</th>\n",
       "      <th>Additional informations</th>\n",
       "    </tr>\n",
       "  </thead>\n",
       "  <tbody>\n",
       "    <tr>\n",
       "      <th>0</th>\n",
       "      <td>1</td>\n",
       "      <td>Dylan</td>\n",
       "      <td>Bob</td>\n",
       "      <td>12345.0</td>\n",
       "      <td>Some stuff</td>\n",
       "    </tr>\n",
       "    <tr>\n",
       "      <th>1</th>\n",
       "      <td>2</td>\n",
       "      <td>Doe</td>\n",
       "      <td>John</td>\n",
       "      <td>1452.0</td>\n",
       "      <td>NaN</td>\n",
       "    </tr>\n",
       "    <tr>\n",
       "      <th>2</th>\n",
       "      <td>3</td>\n",
       "      <td>Doe</td>\n",
       "      <td>Jane</td>\n",
       "      <td>NaN</td>\n",
       "      <td>\"A lot of \\emph{informations} with \\LaTeX com...</td>\n",
       "    </tr>\n",
       "  </tbody>\n",
       "</table>\n",
       "</div>"
      ],
      "text/plain": [
       "   Employee ID Last Name Fist name  Telephone number  \\\n",
       "0            1     Dylan       Bob           12345.0   \n",
       "1            2       Doe      John            1452.0   \n",
       "2            3       Doe      Jane               NaN   \n",
       "\n",
       "                             Additional informations  \n",
       "0                                         Some stuff  \n",
       "1                                                NaN  \n",
       "2   \"A lot of \\emph{informations} with \\LaTeX com...  "
      ]
     },
     "execution_count": 4,
     "metadata": {},
     "output_type": "execute_result"
    }
   ],
   "source": [
    "pd.read_table('sampleData.csv', sep=\",\")"
   ]
  },
  {
   "cell_type": "code",
   "execution_count": 5,
   "id": "3261f640-c091-41b1-80c5-5c5ebd09407e",
   "metadata": {},
   "outputs": [],
   "source": [
    "import subprocess\n",
    "\n",
    "def tex_to_pdf(tex_file_path):\n",
    "    try:\n",
    "        # Run pdflatex to compile the TeX file into PDF\n",
    "        subprocess.run([\"pdflatex\", tex_file_path])\n",
    "\n",
    "        # Remove unnecessary files generated during compilation\n",
    "        base_name = tex_file_path[:-4]\n",
    "        extensions_to_remove = [\".aux\", \".log\", \".out\"]\n",
    "        for ext in extensions_to_remove:\n",
    "            file_to_remove = base_name + ext\n",
    "            subprocess.run([\"rm\", file_to_remove])\n",
    "    except Exception as e:\n",
    "        print(f\"Error occurred: {e}\")\n"
   ]
  },
  {
   "cell_type": "code",
   "execution_count": 6,
   "id": "39e173ac-699d-41b7-aa5c-3c8ccf1d6073",
   "metadata": {},
   "outputs": [
    {
     "ename": "PermissionError",
     "evalue": "[Errno 13] Permission denied: 'pdflatex-0.1.3/pdflatex/'",
     "output_type": "error",
     "traceback": [
      "\u001b[0;31m---------------------------------------------------------------------------\u001b[0m",
      "\u001b[0;31mPermissionError\u001b[0m                           Traceback (most recent call last)",
      "\u001b[0;32m/var/folders/fz/zn5r8vq12nv5p23dtlr15sk40000gn/T/ipykernel_24096/2880008611.py\u001b[0m in \u001b[0;36m<module>\u001b[0;34m\u001b[0m\n\u001b[1;32m     56\u001b[0m \u001b[0;34m\u001b[0m\u001b[0m\n\u001b[1;32m     57\u001b[0m         \u001b[0;31m## compile the file you've just created with LaTeX\u001b[0m\u001b[0;34m\u001b[0m\u001b[0;34m\u001b[0m\u001b[0m\n\u001b[0;32m---> 58\u001b[0;31m         \u001b[0msubprocess\u001b[0m\u001b[0;34m.\u001b[0m\u001b[0mPopen\u001b[0m\u001b[0;34m(\u001b[0m\u001b[0;34m[\u001b[0m\u001b[0;34m'pdflatex-0.1.3/pdflatex/'\u001b[0m\u001b[0;34m,\u001b[0m\u001b[0mTexFileName\u001b[0m\u001b[0;34m]\u001b[0m\u001b[0;34m,\u001b[0m\u001b[0mshell\u001b[0m\u001b[0;34m=\u001b[0m\u001b[0;32mFalse\u001b[0m\u001b[0;34m)\u001b[0m\u001b[0;34m\u001b[0m\u001b[0;34m\u001b[0m\u001b[0m\n\u001b[0m\u001b[1;32m     59\u001b[0m         \u001b[0;31m# subprocess.Popen(['001.tex',TexFileName],shell=False)\u001b[0m\u001b[0;34m\u001b[0m\u001b[0;34m\u001b[0m\u001b[0m\n\u001b[1;32m     60\u001b[0m         \u001b[0;31m# tex_to_pdf(TexFileName)\u001b[0m\u001b[0;34m\u001b[0m\u001b[0;34m\u001b[0m\u001b[0m\n",
      "\u001b[0;32m~/opt/anaconda3/lib/python3.9/subprocess.py\u001b[0m in \u001b[0;36m__init__\u001b[0;34m(self, args, bufsize, executable, stdin, stdout, stderr, preexec_fn, close_fds, shell, cwd, env, universal_newlines, startupinfo, creationflags, restore_signals, start_new_session, pass_fds, user, group, extra_groups, encoding, errors, text, umask)\u001b[0m\n\u001b[1;32m    949\u001b[0m                             encoding=encoding, errors=errors)\n\u001b[1;32m    950\u001b[0m \u001b[0;34m\u001b[0m\u001b[0m\n\u001b[0;32m--> 951\u001b[0;31m             self._execute_child(args, executable, preexec_fn, close_fds,\n\u001b[0m\u001b[1;32m    952\u001b[0m                                 \u001b[0mpass_fds\u001b[0m\u001b[0;34m,\u001b[0m \u001b[0mcwd\u001b[0m\u001b[0;34m,\u001b[0m \u001b[0menv\u001b[0m\u001b[0;34m,\u001b[0m\u001b[0;34m\u001b[0m\u001b[0;34m\u001b[0m\u001b[0m\n\u001b[1;32m    953\u001b[0m                                 \u001b[0mstartupinfo\u001b[0m\u001b[0;34m,\u001b[0m \u001b[0mcreationflags\u001b[0m\u001b[0;34m,\u001b[0m \u001b[0mshell\u001b[0m\u001b[0;34m,\u001b[0m\u001b[0;34m\u001b[0m\u001b[0;34m\u001b[0m\u001b[0m\n",
      "\u001b[0;32m~/opt/anaconda3/lib/python3.9/subprocess.py\u001b[0m in \u001b[0;36m_execute_child\u001b[0;34m(self, args, executable, preexec_fn, close_fds, pass_fds, cwd, env, startupinfo, creationflags, shell, p2cread, p2cwrite, c2pread, c2pwrite, errread, errwrite, restore_signals, gid, gids, uid, umask, start_new_session)\u001b[0m\n\u001b[1;32m   1819\u001b[0m                     \u001b[0;32mif\u001b[0m \u001b[0merrno_num\u001b[0m \u001b[0;34m!=\u001b[0m \u001b[0;36m0\u001b[0m\u001b[0;34m:\u001b[0m\u001b[0;34m\u001b[0m\u001b[0;34m\u001b[0m\u001b[0m\n\u001b[1;32m   1820\u001b[0m                         \u001b[0merr_msg\u001b[0m \u001b[0;34m=\u001b[0m \u001b[0mos\u001b[0m\u001b[0;34m.\u001b[0m\u001b[0mstrerror\u001b[0m\u001b[0;34m(\u001b[0m\u001b[0merrno_num\u001b[0m\u001b[0;34m)\u001b[0m\u001b[0;34m\u001b[0m\u001b[0;34m\u001b[0m\u001b[0m\n\u001b[0;32m-> 1821\u001b[0;31m                     \u001b[0;32mraise\u001b[0m \u001b[0mchild_exception_type\u001b[0m\u001b[0;34m(\u001b[0m\u001b[0merrno_num\u001b[0m\u001b[0;34m,\u001b[0m \u001b[0merr_msg\u001b[0m\u001b[0;34m,\u001b[0m \u001b[0merr_filename\u001b[0m\u001b[0;34m)\u001b[0m\u001b[0;34m\u001b[0m\u001b[0;34m\u001b[0m\u001b[0m\n\u001b[0m\u001b[1;32m   1822\u001b[0m                 \u001b[0;32mraise\u001b[0m \u001b[0mchild_exception_type\u001b[0m\u001b[0;34m(\u001b[0m\u001b[0merr_msg\u001b[0m\u001b[0;34m)\u001b[0m\u001b[0;34m\u001b[0m\u001b[0;34m\u001b[0m\u001b[0m\n\u001b[1;32m   1823\u001b[0m \u001b[0;34m\u001b[0m\u001b[0m\n",
      "\u001b[0;31mPermissionError\u001b[0m: [Errno 13] Permission denied: 'pdflatex-0.1.3/pdflatex/'"
     ]
    }
   ],
   "source": [
    "\n",
    "\n",
    "###== Definition of the LaTeX template (with \"blanks\") ==###\n",
    "    # caution : you need to escape backslashs with backslashs\n",
    "    #   blanks are filed with %(Name)s \n",
    "    # Name are here two letters\n",
    "    # 's' means the variable is a string\n",
    "LatexContent = '''\\\\documentclass{scrartcl}\n",
    "                        \\\\usepackage{graphicx}\n",
    "                        \\\\begin{document}\n",
    "                            \\\\includegraphics[width=1cm,height=3cm]{%(Id)s}\n",
    "                            {\\\\sffamily %(Fn)s \\\\textsc{%(Ln)s}}\n",
    "                                \\\\newline\n",
    "                            \\\\section{Phone}\n",
    "                            {\\\\tiny Phone number: %(Ph)s}\n",
    "                                \\\\newpage\n",
    "                            %(Ot)s\n",
    "                   \\\\end{document}'''\n",
    "\n",
    "###== Look at the database ==##\n",
    "# open the database into python\n",
    "my_db_file = open(\"sampleData.csv\",\"r\")\n",
    "\n",
    "# read the database\n",
    "my_db = csv.reader(my_db_file, delimiter=',',skipinitialspace=True)\n",
    "\n",
    "###== TeX files processing and generating ==###\n",
    "#skip the header of the database\n",
    "# my_db.next() \n",
    "next(my_db)\n",
    "\n",
    "#then for each row of the database\n",
    "for row in my_db :\n",
    "        ## Assign the items of the row to the variables that will fill up the \n",
    "        ##    blanks of the LaTeX code\n",
    "        ID = str(row[0])            #caution, first item of a row = index '0'\n",
    "        LastName = str(row[1])\n",
    "        FirstName = str(row[2])\n",
    "        Phone = str(row[3])\n",
    "        Other = str(row[4])\n",
    "\n",
    "            #define the TeX file name\n",
    "        TexFileName = ID + '.tex'\n",
    "\n",
    "        ## create a new LaTeX file with the blanks filled\n",
    "            #create a new file\n",
    "            \n",
    "            # save location\n",
    "        save_file  = 'datasets/project_2/save_read_pdfs/' + TexFileName\n",
    "        TexFile = open(save_file,'w')\n",
    "\n",
    "            #fill the blanks with the previously read informations\n",
    "        TexFile.write(LatexContent %{\"Id\" : ID, \"Fn\" : FirstName, \n",
    "        \"Ln\" : LastName, \"Ph\" : Phone, \"Ot\" : Other })\n",
    "\n",
    "            #close the file\n",
    "        TexFile.close()\n",
    "\n",
    "        ## compile the file you've just created with LaTeX        \n",
    "        subprocess.Popen(['pdflatex-0.1.3/pdflatex/',TexFileName],shell=False) \n",
    "        # subprocess.Popen(['001.tex',TexFileName],shell=False) \n",
    "        # tex_to_pdf(TexFileName)\n",
    "    \n",
    "\n",
    "#close the database file\n",
    "my_db_file.close()"
   ]
  },
  {
   "cell_type": "code",
   "execution_count": null,
   "id": "fd5d1881-e574-428a-8a7b-e31e89fa46f3",
   "metadata": {},
   "outputs": [],
   "source": []
  },
  {
   "cell_type": "code",
   "execution_count": null,
   "id": "d6b0a706-02ad-46ff-a0ac-106a7db1767f",
   "metadata": {},
   "outputs": [],
   "source": []
  }
 ],
 "metadata": {
  "kernelspec": {
   "display_name": "Python 3 (ipykernel)",
   "language": "python",
   "name": "python3"
  },
  "language_info": {
   "codemirror_mode": {
    "name": "ipython",
    "version": 3
   },
   "file_extension": ".py",
   "mimetype": "text/x-python",
   "name": "python",
   "nbconvert_exporter": "python",
   "pygments_lexer": "ipython3",
   "version": "3.9.7"
  }
 },
 "nbformat": 4,
 "nbformat_minor": 5
}
